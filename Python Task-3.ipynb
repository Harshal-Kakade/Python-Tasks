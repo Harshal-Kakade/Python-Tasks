{
 "cells": [
  {
   "cell_type": "markdown",
   "metadata": {},
   "source": [
    "# Part_A: Roman Numbers to Decimal Converter\n",
    "\n",
    "Statement:-\n",
    "1) Work your way through the string of Roman numerals from left to right, examining two adjacent characters at a time. If you want then you can also specify that the direction of loops, but it does not matter as long as the comparisons are implemented accordingly.\n",
    "\n",
    "2) If the value on the left is higher than the value on the right, then subtract the count at that position from the final value. Otherwise, just add it.\n",
    "\n",
    "3) Once the process is complete, the final value is the decimal value equivalent of the roman number.\n",
    "\n",
    "Examples:\n",
    "I: 1, V: 5, X: 10, C: 100, D: 500, M: 1000"
   ]
  },
  {
   "cell_type": "code",
   "execution_count": 7,
   "metadata": {},
   "outputs": [],
   "source": [
    "tallies={'I':1,'V':5,'X':10,'L':50,'C':100,'D':500,'M':100}\n",
    "\n",
    "\n",
    "def RomanNumberToDecimal(RomanNumber):\n",
    "    sum = 0\n",
    "    \n",
    "    for i in range(len(RomanNumber) - 1):\n",
    "        left = RomanNumber[i]\n",
    "        right = RomanNumber[i + 1]\n",
    "        if tallies[left] < tallies[right]:\n",
    "            sum -= tallies[left]\n",
    "        else:\n",
    "            sum += tallies[left]\n",
    "            \n",
    "    sum += tallies[RomanNumber[-1]]\n",
    "    return sum\n"
   ]
  },
  {
   "cell_type": "code",
   "execution_count": 8,
   "metadata": {},
   "outputs": [
    {
     "data": {
      "text/plain": [
       "5"
      ]
     },
     "execution_count": 8,
     "metadata": {},
     "output_type": "execute_result"
    }
   ],
   "source": [
    "RomanNumberToDecimal('V')"
   ]
  },
  {
   "cell_type": "code",
   "execution_count": 10,
   "metadata": {},
   "outputs": [
    {
     "data": {
      "text/plain": [
       "12"
      ]
     },
     "execution_count": 10,
     "metadata": {},
     "output_type": "execute_result"
    }
   ],
   "source": [
    "RomanNumberToDecimal('XII')"
   ]
  },
  {
   "cell_type": "code",
   "execution_count": 11,
   "metadata": {},
   "outputs": [
    {
     "data": {
      "text/plain": [
       "561"
      ]
     },
     "execution_count": 11,
     "metadata": {},
     "output_type": "execute_result"
    }
   ],
   "source": [
    "RomanNumberToDecimal('DLXI')"
   ]
  },
  {
   "cell_type": "code",
   "execution_count": null,
   "metadata": {},
   "outputs": [],
   "source": []
  },
  {
   "cell_type": "markdown",
   "metadata": {},
   "source": [
    "# Part_B: BMI Calculator\n",
    "\n",
    "The body mass index is calculated by dividing an individual’s weight in kilograms by their height in meters, then dividing the answer again by their height.\n",
    "\n",
    "Examples:\n",
    "\n",
    "Enter your height in centimeters: 170\n",
    "\n",
    "Enter your Weight in Kg: 67\n",
    "\n",
    "your Body Mass Index is: 23.18339100346021\n",
    "\n",
    "you are Healthy"
   ]
  },
  {
   "cell_type": "code",
   "execution_count": 39,
   "metadata": {},
   "outputs": [
    {
     "name": "stdout",
     "output_type": "stream",
     "text": [
      "Enter Your Height in Centimeters: 170\n",
      "Enter Your Weight in Kilograms: 67\n",
      "Your Body Mass Index is: 23.18339100346021\n",
      "You are Healthy\n"
     ]
    }
   ],
   "source": [
    "height=float(input(\"Enter Your Height in Centimeters: \"))\n",
    "weight=int(input(\"Enter Your Weight in Kilograms: \"))\n",
    "\n",
    "height=height/100\n",
    "BMI=weight/(height*height)\n",
    "print(\"Your Body Mass Index is:\",BMI)\n",
    "\n",
    "if BMI<=18.5:\n",
    "    print(\"You are Underweight\")\n",
    "elif BMI>18.5 and BMI<=24.9:\n",
    "    print(\"You are Healthy\")\n",
    "elif BMI>24.9 and BMI<30:\n",
    "    print(\"You are Overweight\")\n",
    "else:\n",
    "    print(\"You are Suffering from Obesity\")\n"
   ]
  },
  {
   "cell_type": "code",
   "execution_count": null,
   "metadata": {},
   "outputs": [],
   "source": []
  }
 ],
 "metadata": {
  "kernelspec": {
   "display_name": "Python 3",
   "language": "python",
   "name": "python3"
  },
  "language_info": {
   "codemirror_mode": {
    "name": "ipython",
    "version": 3
   },
   "file_extension": ".py",
   "mimetype": "text/x-python",
   "name": "python",
   "nbconvert_exporter": "python",
   "pygments_lexer": "ipython3",
   "version": "3.8.5"
  }
 },
 "nbformat": 4,
 "nbformat_minor": 4
}
