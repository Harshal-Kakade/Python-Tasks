{
 "cells": [
  {
   "cell_type": "markdown",
   "metadata": {},
   "source": [
    "# Part_A: Shopping List App\n",
    "- We are going to make a \"Shopping List\" app.\n",
    "- Run the script to start using it.\n",
    "- Put new things into the list one at a time\n",
    "- Enter the word DONE - in all CAPS - to QUIT the program\n",
    "- And once I quit, I want the app to show me everything that on my list."
   ]
  },
  {
   "cell_type": "markdown",
   "metadata": {},
   "source": [
    "- Step 1: Make a list to hold onto our items.\n",
    "- Step 2: Print out instructions on how to use the app\n",
    "- Step 3: Ask for new items\n",
    "- Step 4: Add new items to our list\n",
    "- Step 5: Be able to quit the app with DONE\n",
    "- Step 6: print out the list"
   ]
  },
  {
   "cell_type": "code",
   "execution_count": 1,
   "metadata": {},
   "outputs": [],
   "source": [
    "#Step 1: Make a list to hold onto our items.\n",
    "Shopping_List=[]"
   ]
  },
  {
   "cell_type": "code",
   "execution_count": 2,
   "metadata": {},
   "outputs": [
    {
     "name": "stdout",
     "output_type": "stream",
     "text": [
      "INSRTUCTIONS TO USE APP\n",
      "Add the items you want to buy from store.\n",
      "Enter done to stop adding items in list.\n"
     ]
    }
   ],
   "source": [
    "#Step 2: Print out instructions on how to use the app\n",
    "print(\"INSRTUCTIONS TO USE APP\")\n",
    "print('Add the items you want to buy from store.')\n",
    "print('Enter done to stop adding items in list.')"
   ]
  },
  {
   "cell_type": "code",
   "execution_count": 3,
   "metadata": {},
   "outputs": [
    {
     "name": "stdout",
     "output_type": "stream",
     "text": [
      "Enter the Items:Egg\n",
      "Enter the Items:Bread\n",
      "Enter the Items:Butter\n",
      "Enter the Items:Cream\n",
      "Enter the Items:Jam\n",
      "Enter the Items:done\n"
     ]
    }
   ],
   "source": [
    "#Step 3: Ask for new items\n",
    "while True:\n",
    "    item=input('Enter the Items:')\n",
    "    \n",
    "    #Step 5: Be able to quit the app with DONE\n",
    "    if(item=='DONE' or item=='done'):\n",
    "        break\n",
    "        \n",
    "    #Step 4: Add new items to our list  \n",
    "    Shopping_List.append(item)"
   ]
  },
  {
   "cell_type": "code",
   "execution_count": 4,
   "metadata": {},
   "outputs": [
    {
     "name": "stdout",
     "output_type": "stream",
     "text": [
      "Egg\n",
      "Bread\n",
      "Butter\n",
      "Cream\n",
      "Jam\n"
     ]
    }
   ],
   "source": [
    "#Step 6: print out the list\n",
    "for item in Shopping_List:\n",
    "    print(item)"
   ]
  },
  {
   "cell_type": "code",
   "execution_count": null,
   "metadata": {},
   "outputs": [],
   "source": []
  },
  {
   "cell_type": "markdown",
   "metadata": {},
   "source": [
    "# Part_B: Interactive Guess the Number Game\n",
    "- The computer will think of a random number from 1 to 100 as secret number.\n",
    "- Then ask you ( Player ) to guess the number and store as guess number.\n",
    "- Compare the guess number with the secret number.\n",
    "- If the player guesses the right number he wins, so print player guesses number in n guesses.\n",
    "- If the player guesses the wrong number, then print smaller number or greater number based on secret number."
   ]
  },
  {
   "cell_type": "code",
   "execution_count": 5,
   "metadata": {},
   "outputs": [],
   "source": [
    "import random"
   ]
  },
  {
   "cell_type": "code",
   "execution_count": 6,
   "metadata": {},
   "outputs": [],
   "source": [
    "secret_number=random.randint(1,100)"
   ]
  },
  {
   "cell_type": "code",
   "execution_count": 7,
   "metadata": {},
   "outputs": [
    {
     "name": "stdout",
     "output_type": "stream",
     "text": [
      "Guess the number between 1 to 100:45\n",
      "Bigger Number Please\n",
      "Guess the number between 1 to 100:55\n",
      "Bigger Number Please\n",
      "Guess the number between 1 to 100:78\n",
      "Smaller Number Please\n",
      "Guess the number between 1 to 100:70\n",
      "Smaller Number Please\n",
      "Guess the number between 1 to 100:68\n",
      "Smaller Number Please\n",
      "Guess the number between 1 to 100:66\n",
      "Smaller Number Please\n",
      "Guess the number between 1 to 100:62\n",
      "You guess Number in 7 guesses.\n"
     ]
    }
   ],
   "source": [
    "guesses=1\n",
    "while True:\n",
    "    #for i in range(1,101):\n",
    "        guess=int(input('Guess the number between 1 to 100:'))\n",
    "    \n",
    "        if guess>secret_number:\n",
    "            print('Smaller Number Please')\n",
    "    \n",
    "        elif guess<secret_number:\n",
    "            print('Bigger Number Please')\n",
    "    \n",
    "        else:\n",
    "            print('You guess Number in {} guesses.'.format(guesses))\n",
    "            break\n",
    "    \n",
    "        guesses=guesses+1"
   ]
  },
  {
   "cell_type": "code",
   "execution_count": null,
   "metadata": {},
   "outputs": [],
   "source": []
  }
 ],
 "metadata": {
  "kernelspec": {
   "display_name": "Python 3",
   "language": "python",
   "name": "python3"
  },
  "language_info": {
   "codemirror_mode": {
    "name": "ipython",
    "version": 3
   },
   "file_extension": ".py",
   "mimetype": "text/x-python",
   "name": "python",
   "nbconvert_exporter": "python",
   "pygments_lexer": "ipython3",
   "version": "3.8.5"
  }
 },
 "nbformat": 4,
 "nbformat_minor": 4
}
